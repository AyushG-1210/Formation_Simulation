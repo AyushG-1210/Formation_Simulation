{
 "cells": [
  {
   "cell_type": "markdown",
   "id": "7035c09d",
   "metadata": {},
   "source": [
    "Imports"
   ]
  },
  {
   "cell_type": "code",
   "execution_count": null,
   "id": "392c528e",
   "metadata": {},
   "outputs": [],
   "source": [
    "import numpy as np\n",
    "import torch\n",
    "import torch.nn as nn\n",
    "import torch.optim as optim\n",
    "from torch.utils.data import DataLoader, TensorDataset\n",
    "from sklearn.model_selection import train_test_split\n",
    "import datetime\n",
    "import os\n",
    "from torch import autocast  # Only import autocast"
   ]
  },
  {
   "cell_type": "markdown",
   "id": "947ab6ee",
   "metadata": {},
   "source": [
    "Parameters"
   ]
  },
  {
   "cell_type": "code",
   "execution_count": null,
   "id": "0d3d9aea",
   "metadata": {},
   "outputs": [],
   "source": [
    "MODEL_PATH = \"team_model.pt\"\n",
    "BATCH_SIZE = 4\n",
    "EPOCHS = 1200\n",
    "PATIENCE = 200\n",
    "LEARNING_RATE = 0.0005\n",
    "SEED = 42\n",
    "torch.manual_seed(SEED)\n",
    "np.random.seed(SEED)"
   ]
  },
  {
   "cell_type": "markdown",
   "id": "b5666baf",
   "metadata": {},
   "source": [
    "Load Data"
   ]
  },
  {
   "cell_type": "code",
   "execution_count": null,
   "id": "07fc5a29",
   "metadata": {},
   "outputs": [],
   "source": [
    "X_players = np.load(\"X_players.npy\")\n",
    "X_ball    = np.load(\"X_ball.npy\")\n",
    "y_players = np.load(\"y_players.npy\")"
   ]
  },
  {
   "cell_type": "markdown",
   "id": "4c8df194",
   "metadata": {},
   "source": [
    "Train-test Split"
   ]
  },
  {
   "cell_type": "code",
   "execution_count": null,
   "id": "0d51b3a9",
   "metadata": {},
   "outputs": [],
   "source": [
    "X_p_train, X_p_test, X_b_train, X_b_test, y_train, y_test = train_test_split(\n",
    "    X_players, X_ball, y_players, test_size=0.2, random_state=SEED\n",
    ")"
   ]
  },
  {
   "cell_type": "markdown",
   "id": "7b546943",
   "metadata": {},
   "source": [
    "Covert to Tensors"
   ]
  },
  {
   "cell_type": "code",
   "execution_count": null,
   "id": "45ab53fd",
   "metadata": {},
   "outputs": [],
   "source": [
    "X_p_train = torch.tensor(X_p_train, dtype=torch.float32)\n",
    "X_b_train = torch.tensor(X_b_train, dtype=torch.float32)\n",
    "y_train   = torch.tensor(y_train, dtype=torch.float32)\n",
    "X_p_test  = torch.tensor(X_p_test, dtype=torch.float32)\n",
    "X_b_test  = torch.tensor(X_b_test, dtype=torch.float32)\n",
    "y_test    = torch.tensor(y_test, dtype=torch.float32)\n"
   ]
  },
  {
   "cell_type": "markdown",
   "id": "3b63a35a",
   "metadata": {},
   "source": [
    "DataLoader"
   ]
  },
  {
   "cell_type": "code",
   "execution_count": null,
   "id": "ef8d2fe5",
   "metadata": {},
   "outputs": [],
   "source": [
    "train_dataset = TensorDataset(X_p_train, X_b_train, y_train)\n",
    "train_loader  = DataLoader(train_dataset, batch_size=BATCH_SIZE, shuffle=True)\n"
   ]
  },
  {
   "cell_type": "markdown",
   "id": "f9d99b5d",
   "metadata": {},
   "source": [
    "Model Definition"
   ]
  },
  {
   "cell_type": "code",
   "execution_count": null,
   "id": "82079401",
   "metadata": {},
   "outputs": [],
   "source": [
    "class TeamMovementModel(nn.Module):\n",
    "    def __init__(self, player_dim=2, ball_dim=2, hidden_size=128):\n",
    "        super().__init__()\n",
    "        self.player_rnn = nn.LSTM(player_dim, hidden_size, batch_first=True)\n",
    "        self.ball_rnn   = nn.LSTM(ball_dim, hidden_size, batch_first=True)\n",
    "        self.fc         = nn.Linear(hidden_size * 2, 20 * 2)\n",
    "\n",
    "    def forward(self, x_players, x_ball):\n",
    "        B, P, T, _ = x_players.shape\n",
    "        _, (ball_h, _) = self.ball_rnn(x_ball)\n",
    "        ball_h = ball_h.squeeze(0)\n",
    "\n",
    "        outputs = []\n",
    "        for i in range(P):\n",
    "            player_seq = x_players[:, i, :, :]\n",
    "            _, (player_h, _) = self.player_rnn(player_seq)\n",
    "            player_h = player_h.squeeze(0)\n",
    "\n",
    "            combined = torch.cat([player_h, ball_h], dim=1)\n",
    "            pred = self.fc(combined).view(-1, 20, 2)\n",
    "            outputs.append(pred)\n",
    "\n",
    "        return torch.stack(outputs, dim=1)  # (B, 22, 20, 2)\n"
   ]
  },
  {
   "cell_type": "markdown",
   "id": "8f7ab639",
   "metadata": {},
   "source": [
    "Training"
   ]
  },
  {
   "cell_type": "code",
   "execution_count": null,
   "id": "a713a976",
   "metadata": {},
   "outputs": [],
   "source": [
    "model = TeamMovementModel()\n",
    "loss_fn = nn.MSELoss()\n",
    "optimizer = optim.Adam(model.parameters(), lr=LEARNING_RATE)\n",
    "\n",
    "best_loss = float('inf')\n",
    "no_improve = 0\n",
    "\n",
    "for epoch in range(EPOCHS):\n",
    "    model.train()\n",
    "    total_loss = 0.0\n",
    "\n",
    "    for xb_p, xb_b, yb in train_loader:\n",
    "        optimizer.zero_grad()\n",
    "        with autocast():  # Use autocast for mixed precision\n",
    "            pred = model(xb_p, xb_b)\n",
    "            loss = loss_fn(pred, yb)\n",
    "\n",
    "        loss.backward()        # Standard backward\n",
    "        optimizer.step()       # Standard optimizer step\n",
    "        total_loss += loss.item() * xb_p.size(0)\n",
    "\n",
    "    epoch_loss = total_loss / len(train_loader.dataset)\n",
    "\n",
    "    # Test evaluation every 20 epochs\n",
    "    if epoch % 20 == 0:\n",
    "        model.eval()\n",
    "        with torch.no_grad():\n",
    "            test_pred = model(X_p_test, X_b_test)\n",
    "            test_loss = loss_fn(test_pred, y_test).item()\n",
    "        print(f\"[{epoch}] Train Loss: {epoch_loss:.6f} | Test Loss: {test_loss:.6f}\")\n",
    "    elif epoch % 50 == 0:\n",
    "        print(f\"[{epoch}] Train Loss: {epoch_loss:.6f} | Time: {datetime.datetime.now().strftime('%H:%M:%S')}\")\n",
    "\n",
    "\n",
    "    # Early stopping\n",
    "    if epoch_loss < best_loss - 1e-5:\n",
    "        best_loss = epoch_loss\n",
    "        no_improve = 0\n",
    "    else:\n",
    "        no_improve += 1\n",
    "        if no_improve >= PATIENCE:\n",
    "            print(f\"Early stopping at epoch {epoch}\")\n",
    "            break"
   ]
  },
  {
   "cell_type": "markdown",
   "id": "74301fac",
   "metadata": {},
   "source": [
    "Save model and predictions"
   ]
  },
  {
   "cell_type": "code",
   "execution_count": null,
   "id": "75c71d0b",
   "metadata": {},
   "outputs": [],
   "source": [
    "torch.save(model.state_dict(), os.path.join(MODEL_PATH))\n",
    "print(f\"Model saved to {MODEL_PATH}\")\n",
    "\n",
    "model.eval()\n",
    "with torch.no_grad():\n",
    "    final_pred = model(X_p_test, X_b_test)\n",
    "    np.save(os.path.join(\"test_predictions.npy\"), final_pred.numpy())\n",
    "    print(\"Saved test predictions.\")"
   ]
  }
 ],
 "metadata": {
  "kernelspec": {
   "display_name": "Python 3",
   "language": "python",
   "name": "python3"
  },
  "language_info": {
   "codemirror_mode": {
    "name": "ipython",
    "version": 3
   },
   "file_extension": ".py",
   "mimetype": "text/x-python",
   "name": "python",
   "nbconvert_exporter": "python",
   "pygments_lexer": "ipython3",
   "version": "3.13.2"
  }
 },
 "nbformat": 4,
 "nbformat_minor": 5
}
